{
 "metadata": {
  "language_info": {
   "codemirror_mode": {
    "name": "ipython",
    "version": 3
   },
   "file_extension": ".py",
   "mimetype": "text/x-python",
   "name": "python",
   "nbconvert_exporter": "python",
   "pygments_lexer": "ipython3",
   "version": "3.8.3-final"
  },
  "orig_nbformat": 2,
  "kernelspec": {
   "name": "python3",
   "display_name": "Python 3.8.3 64-bit ('anaconda3': virtualenv)",
   "metadata": {
    "interpreter": {
     "hash": "597da7bbaa5f9edb2c6082b84a605bb26a8a75cbc5185b3c375f95f1c2f4e67c"
    }
   }
  }
 },
 "nbformat": 4,
 "nbformat_minor": 2,
 "cells": [
  {
   "source": [
    "from util import clean_storage_folder\n",
    "clean_storage_folder.clean_storage('storage')"
   ],
   "cell_type": "code",
   "metadata": {},
   "execution_count": 1,
   "outputs": []
  },
  {
   "source": [
    "from data.generate_frame import FrameGenerator as FG\n",
    "fg = FG('config/config.ini', 'storage')\n",
    "fg.run()"
   ],
   "cell_type": "code",
   "metadata": {},
   "execution_count": 2,
   "outputs": [
    {
     "output_type": "stream",
     "name": "stderr",
     "text": [
      "  0%|          | 0/32 [00:00<?, ?it/s]Making training data.\n",
      "100%|██████████| 32/32 [00:09<00:00,  3.47it/s]\n",
      "  0%|          | 0/32 [00:00<?, ?it/s]Making validation data.\n",
      "100%|██████████| 32/32 [00:08<00:00,  3.60it/s]\n",
      "  0%|          | 0/32 [00:00<?, ?it/s]Making evaluation data.\n",
      "100%|██████████| 32/32 [00:08<00:00,  3.73it/s]\n"
     ]
    }
   ]
  },
  {
   "cell_type": "code",
   "execution_count": 1,
   "metadata": {},
   "outputs": [
    {
     "output_type": "stream",
     "name": "stderr",
     "text": [
      "100%|██████████| 32/32 [00:00<00:00, 2330.57it/s]\n",
      "100%|██████████| 32/32 [00:00<00:00, 2385.16it/s]\n",
      "100%|██████████| 32/32 [00:00<00:00, 2216.17it/s]Loading tracks from storage... \n",
      "\n",
      "Loading tracks from storage... \n",
      "\n",
      "Loading tracks from storage... \n",
      "\n",
      "\n"
     ]
    }
   ],
   "source": [
    "from util.sliding_window import SlidingWindow\n",
    "S = SlidingWindow('storage', 'config/config.ini')"
   ]
  },
  {
   "cell_type": "code",
   "execution_count": 2,
   "metadata": {},
   "outputs": [],
   "source": [
    "s = S.slinding_windows(S.train_tracks, 20.0)"
   ]
  },
  {
   "cell_type": "code",
   "execution_count": 3,
   "metadata": {},
   "outputs": [
    {
     "output_type": "execute_result",
     "data": {
      "text/plain": [
       "[(0,\n",
       "  0,\n",
       "  0,\n",
       "  array([[[[nan],\n",
       "           [nan],\n",
       "           [nan],\n",
       "           [13.],\n",
       "           [ 9.],\n",
       "           [ 8.]],\n",
       "  \n",
       "          [[nan],\n",
       "           [nan],\n",
       "           [nan],\n",
       "           [60.],\n",
       "           [60.],\n",
       "           [60.]]]])),\n",
       " (0,\n",
       "  0,\n",
       "  1,\n",
       "  array([[[[nan],\n",
       "           [nan],\n",
       "           [13.],\n",
       "           [ 9.],\n",
       "           [ 8.],\n",
       "           [ 8.]],\n",
       "  \n",
       "          [[nan],\n",
       "           [nan],\n",
       "           [60.],\n",
       "           [60.],\n",
       "           [60.],\n",
       "           [60.]]]]))]"
      ]
     },
     "metadata": {},
     "execution_count": 3
    }
   ],
   "source": [
    "s"
   ]
  },
  {
   "cell_type": "code",
   "execution_count": 4,
   "metadata": {},
   "outputs": [
    {
     "output_type": "execute_result",
     "data": {
      "text/plain": [
       "[array([[[nan],\n",
       "         [nan],\n",
       "         [nan],\n",
       "         [13.],\n",
       "         [ 9.],\n",
       "         [38.]],\n",
       " \n",
       "        [[nan],\n",
       "         [nan],\n",
       "         [nan],\n",
       "         [60.],\n",
       "         [60.],\n",
       "         [54.]]]),\n",
       " array([[[nan],\n",
       "         [nan],\n",
       "         [13.],\n",
       "         [ 9.],\n",
       "         [38.],\n",
       "         [38.]],\n",
       " \n",
       "        [[nan],\n",
       "         [nan],\n",
       "         [60.],\n",
       "         [60.],\n",
       "         [54.],\n",
       "         [54.]]]),\n",
       " array([[[0.],\n",
       "         [0.],\n",
       "         [0.],\n",
       "         [0.],\n",
       "         [0.],\n",
       "         [0.]],\n",
       " \n",
       "        [[0.],\n",
       "         [0.],\n",
       "         [0.],\n",
       "         [0.],\n",
       "         [0.],\n",
       "         [0.]]]),\n",
       " array([[[0.],\n",
       "         [0.],\n",
       "         [0.],\n",
       "         [0.],\n",
       "         [0.],\n",
       "         [0.]],\n",
       " \n",
       "        [[0.],\n",
       "         [0.],\n",
       "         [0.],\n",
       "         [0.],\n",
       "         [0.],\n",
       "         [0.]]]),\n",
       " array([[[0.],\n",
       "         [0.],\n",
       "         [0.],\n",
       "         [0.],\n",
       "         [0.],\n",
       "         [0.]],\n",
       " \n",
       "        [[0.],\n",
       "         [0.],\n",
       "         [0.],\n",
       "         [0.],\n",
       "         [0.],\n",
       "         [0.]]])]"
      ]
     },
     "metadata": {},
     "execution_count": 4
    }
   ],
   "source": [
    "[x[-1][0] for x in s]"
   ]
  },
  {
   "source": [
    "from train import Model\n",
    "M = Model('storage', 'config/config.ini')"
   ],
   "cell_type": "code",
   "metadata": {},
   "execution_count": null,
   "outputs": []
  },
  {
   "cell_type": "code",
   "execution_count": null,
   "metadata": {},
   "outputs": [],
   "source": [
    "M.print_img('training')\n"
   ]
  },
  {
   "cell_type": "code",
   "execution_count": null,
   "metadata": {
    "tags": []
   },
   "outputs": [],
   "source": [
    "history = M.fit_model()"
   ]
  },
  {
   "source": [
    "M._load_from_checkpoint('output/checkpoints')"
   ],
   "cell_type": "code",
   "metadata": {},
   "execution_count": null,
   "outputs": []
  },
  {
   "cell_type": "code",
   "execution_count": null,
   "metadata": {},
   "outputs": [],
   "source": [
    "M.compare_predict('evaluation')"
   ]
  },
  {
   "source": [
    "b, p, s = M.predict('training')\n",
    "from eval.evaluate import Evaluator as E\n",
    "ev = E(M.config, p, b, s)"
   ],
   "cell_type": "code",
   "metadata": {},
   "execution_count": null,
   "outputs": []
  },
  {
   "cell_type": "code",
   "execution_count": null,
   "metadata": {},
   "outputs": [],
   "source": [
    "msk, corr, acc = ev.evaluate()"
   ]
  },
  {
   "cell_type": "code",
   "execution_count": null,
   "metadata": {},
   "outputs": [],
   "source": [
    "import matplotlib.pyplot as plt\n",
    "plt.imshow(corr[0,:,:,1])\n",
    "#plt.savefig('output/center.png')"
   ]
  },
  {
   "cell_type": "code",
   "execution_count": null,
   "metadata": {},
   "outputs": [],
   "source": [
    "plt.imshow(p[0,:,:,1])\n",
    "#plt.savefig('output/pred.png')"
   ]
  },
  {
   "cell_type": "code",
   "execution_count": null,
   "metadata": {},
   "outputs": [],
   "source": [
    "plt.imshow(b[0,:,:,1])\n",
    "#plt.savefig('output/data.png')"
   ]
  },
  {
   "cell_type": "code",
   "execution_count": null,
   "metadata": {},
   "outputs": [],
   "source": [
    "M.illustrate_history(history)"
   ]
  },
  {
   "cell_type": "code",
   "execution_count": null,
   "metadata": {},
   "outputs": [],
   "source": [
    "acc"
   ]
  }
 ]
}